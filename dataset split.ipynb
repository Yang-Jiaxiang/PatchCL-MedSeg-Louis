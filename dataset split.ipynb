{
 "cells": [
  {
   "cell_type": "code",
   "execution_count": 1,
   "id": "bcc43d3d",
   "metadata": {},
   "outputs": [],
   "source": [
    "import os\n",
    "import random\n",
    "import csv"
   ]
  },
  {
   "cell_type": "code",
   "execution_count": 2,
   "id": "f694d055",
   "metadata": {},
   "outputs": [],
   "source": [
    "# Define the data directory paths\n",
    "data_dir = '/home/S312112021/dataset/0_data_dataset_voc_950/'\n",
    "IMG_folder_path = data_dir + 'JPEGImages/'\n",
    "msk_folder_path = data_dir + 'SegmentationClassPNG/'\n",
    "output_dir = 'dataset/splits/kidney/1-3/'\n",
    "val_output_dir = 'dataset/splits/kidney/'"
   ]
  },
  {
   "cell_type": "code",
   "execution_count": 3,
   "id": "f64e4d41",
   "metadata": {},
   "outputs": [],
   "source": [
    "def remove_prefix(text, prefix):\n",
    "    if text.startswith(prefix):\n",
    "        return text[len(prefix):]\n",
    "    return text  # 如果沒有前綴就回傳原文"
   ]
  },
  {
   "cell_type": "code",
   "execution_count": 4,
   "id": "04b161cf",
   "metadata": {},
   "outputs": [],
   "source": [
    "# Get a list of image file paths and shuffle them\n",
    "files = [os.path.join(IMG_folder_path, file) for file in os.listdir(IMG_folder_path)]\n",
    "random.shuffle(files)\n",
    "files = [remove_prefix(file_path, data_dir) for file_path in files]\n",
    "\n",
    "# Specify the validation and labeled data ratios\n",
    "val_ratio = 0.1\n",
    "labeled_ratio = 0.334\n",
    "\n",
    "# Calculate the number of samples for each set\n",
    "total_samples = len(files)\n",
    "val_samples = int(total_samples * val_ratio)\n",
    "train_samples = int((total_samples - val_samples) * labeled_ratio)\n",
    "\n",
    "# Split the files into validation, labeled, and unlabeled sets\n",
    "val_img = files[:val_samples]\n",
    "labeled_img = files[val_samples:val_samples + train_samples]\n",
    "unlabeled_img = files[val_samples + train_samples:]"
   ]
  },
  {
   "cell_type": "code",
   "execution_count": 5,
   "id": "078c6855",
   "metadata": {},
   "outputs": [
    {
     "ename": "FileNotFoundError",
     "evalue": "[Errno 2] No such file or directory: 'dataset/splits/kidney/1-3/labeled.txt'",
     "output_type": "error",
     "traceback": [
      "\u001b[0;31m---------------------------------------------------------------------------\u001b[0m",
      "\u001b[0;31mFileNotFoundError\u001b[0m                         Traceback (most recent call last)",
      "Cell \u001b[0;32mIn[5], line 16\u001b[0m\n\u001b[1;32m     13\u001b[0m unlabeled_mask \u001b[38;5;241m=\u001b[39m [remove_prefix(file_path, data_dir) \u001b[38;5;28;01mfor\u001b[39;00m file_path \u001b[38;5;129;01min\u001b[39;00m unlabeled_mask]\n\u001b[1;32m     15\u001b[0m \u001b[38;5;66;03m# Write the labeled image and mask pairs to 'labeled.txt'\u001b[39;00m\n\u001b[0;32m---> 16\u001b[0m \u001b[38;5;28;01mwith\u001b[39;00m \u001b[38;5;28;43mopen\u001b[39;49m\u001b[43m(\u001b[49m\u001b[43mos\u001b[49m\u001b[38;5;241;43m.\u001b[39;49m\u001b[43mpath\u001b[49m\u001b[38;5;241;43m.\u001b[39;49m\u001b[43mjoin\u001b[49m\u001b[43m(\u001b[49m\u001b[43moutput_dir\u001b[49m\u001b[43m,\u001b[49m\u001b[43m \u001b[49m\u001b[38;5;124;43m\"\u001b[39;49m\u001b[38;5;124;43mlabeled.txt\u001b[39;49m\u001b[38;5;124;43m\"\u001b[39;49m\u001b[43m)\u001b[49m\u001b[43m,\u001b[49m\u001b[43m \u001b[49m\u001b[38;5;124;43m'\u001b[39;49m\u001b[38;5;124;43mw\u001b[39;49m\u001b[38;5;124;43m'\u001b[39;49m\u001b[43m)\u001b[49m \u001b[38;5;28;01mas\u001b[39;00m file:\n\u001b[1;32m     17\u001b[0m     writer \u001b[38;5;241m=\u001b[39m csv\u001b[38;5;241m.\u001b[39mwriter(file, delimiter\u001b[38;5;241m=\u001b[39m\u001b[38;5;124m'\u001b[39m\u001b[38;5;124m \u001b[39m\u001b[38;5;124m'\u001b[39m)\n\u001b[1;32m     18\u001b[0m     writer\u001b[38;5;241m.\u001b[39mwriterows(\u001b[38;5;28mzip\u001b[39m(labeled_img, labeled_mask))\n",
      "File \u001b[0;32m/usr/local/lib/python3.10/dist-packages/IPython/core/interactiveshell.py:284\u001b[0m, in \u001b[0;36m_modified_open\u001b[0;34m(file, *args, **kwargs)\u001b[0m\n\u001b[1;32m    277\u001b[0m \u001b[38;5;28;01mif\u001b[39;00m file \u001b[38;5;129;01min\u001b[39;00m {\u001b[38;5;241m0\u001b[39m, \u001b[38;5;241m1\u001b[39m, \u001b[38;5;241m2\u001b[39m}:\n\u001b[1;32m    278\u001b[0m     \u001b[38;5;28;01mraise\u001b[39;00m \u001b[38;5;167;01mValueError\u001b[39;00m(\n\u001b[1;32m    279\u001b[0m         \u001b[38;5;124mf\u001b[39m\u001b[38;5;124m\"\u001b[39m\u001b[38;5;124mIPython won\u001b[39m\u001b[38;5;124m'\u001b[39m\u001b[38;5;124mt let you open fd=\u001b[39m\u001b[38;5;132;01m{\u001b[39;00mfile\u001b[38;5;132;01m}\u001b[39;00m\u001b[38;5;124m by default \u001b[39m\u001b[38;5;124m\"\u001b[39m\n\u001b[1;32m    280\u001b[0m         \u001b[38;5;124m\"\u001b[39m\u001b[38;5;124mas it is likely to crash IPython. If you know what you are doing, \u001b[39m\u001b[38;5;124m\"\u001b[39m\n\u001b[1;32m    281\u001b[0m         \u001b[38;5;124m\"\u001b[39m\u001b[38;5;124myou can use builtins\u001b[39m\u001b[38;5;124m'\u001b[39m\u001b[38;5;124m open.\u001b[39m\u001b[38;5;124m\"\u001b[39m\n\u001b[1;32m    282\u001b[0m     )\n\u001b[0;32m--> 284\u001b[0m \u001b[38;5;28;01mreturn\u001b[39;00m \u001b[43mio_open\u001b[49m\u001b[43m(\u001b[49m\u001b[43mfile\u001b[49m\u001b[43m,\u001b[49m\u001b[43m \u001b[49m\u001b[38;5;241;43m*\u001b[39;49m\u001b[43margs\u001b[49m\u001b[43m,\u001b[49m\u001b[43m \u001b[49m\u001b[38;5;241;43m*\u001b[39;49m\u001b[38;5;241;43m*\u001b[39;49m\u001b[43mkwargs\u001b[49m\u001b[43m)\u001b[49m\n",
      "\u001b[0;31mFileNotFoundError\u001b[0m: [Errno 2] No such file or directory: 'dataset/splits/kidney/1-3/labeled.txt'"
     ]
    }
   ],
   "source": [
    "import csv\n",
    "import os\n",
    "\n",
    "# Assuming the variables `labeled_img`, `val_img`, and `unlabeled_img` are already defined as lists of file paths\n",
    "\n",
    "# Create corresponding mask file paths for the labeled, validation, and unlabeled images\n",
    "labeled_mask = [os.path.join(msk_folder_path, os.path.splitext(os.path.basename(file))[0] + '.png') for file in labeled_img]\n",
    "val_mask = [os.path.join(msk_folder_path, os.path.splitext(os.path.basename(file))[0] + '.png') for file in val_img]\n",
    "unlabeled_mask = [os.path.join(msk_folder_path, os.path.splitext(os.path.basename(file))[0] + '.png') for file in unlabeled_img]\n",
    "\n",
    "labeled_mask = [remove_prefix(file_path, data_dir) for file_path in labeled_mask]\n",
    "val_mask = [remove_prefix(file_path, data_dir) for file_path in val_mask]\n",
    "unlabeled_mask = [remove_prefix(file_path, data_dir) for file_path in unlabeled_mask]\n",
    "\n",
    "# Write the labeled image and mask pairs to 'labeled.txt'\n",
    "with open(os.path.join(output_dir, \"labeled.txt\"), 'w') as file:\n",
    "    writer = csv.writer(file, delimiter=' ')\n",
    "    writer.writerows(zip(labeled_img, labeled_mask))\n",
    "\n",
    "# Write the validation image and mask pairs to 'val.txt'\n",
    "with open(os.path.join(val_output_dir, \"val.txt\"), 'w') as file:\n",
    "    writer = csv.writer(file, delimiter=' ')\n",
    "    writer.writerows(zip(val_img, val_mask))\n",
    "\n",
    "# Write the unlabeled image file paths to 'unlabeled.txt'\n",
    "with open(os.path.join(output_dir, \"unlabeled.txt\"), 'w') as file:\n",
    "    writer = csv.writer(file, delimiter=' ')\n",
    "    writer.writerows(zip(unlabeled_img, unlabeled_mask))\n",
    "\n",
    "# The comment in Chinese: # 將每個列表裡的每一個元素中，使其成為一行\n"
   ]
  },
  {
   "cell_type": "code",
   "execution_count": null,
   "id": "92425412",
   "metadata": {},
   "outputs": [],
   "source": []
  },
  {
   "cell_type": "code",
   "execution_count": null,
   "id": "5f7948de",
   "metadata": {},
   "outputs": [],
   "source": []
  }
 ],
 "metadata": {
  "kernelspec": {
   "display_name": "Python 3 (ipykernel)",
   "language": "python",
   "name": "python3"
  },
  "language_info": {
   "codemirror_mode": {
    "name": "ipython",
    "version": 3
   },
   "file_extension": ".py",
   "mimetype": "text/x-python",
   "name": "python",
   "nbconvert_exporter": "python",
   "pygments_lexer": "ipython3",
   "version": "3.10.12"
  }
 },
 "nbformat": 4,
 "nbformat_minor": 5
}
