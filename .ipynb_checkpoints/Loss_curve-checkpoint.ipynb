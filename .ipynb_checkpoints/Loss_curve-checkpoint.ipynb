{
 "cells": [
  {
   "cell_type": "code",
   "execution_count": 1,
   "id": "4b1c38d6",
   "metadata": {},
   "outputs": [
    {
     "data": {
      "text/html": [
       "<div>\n",
       "<style scoped>\n",
       "    .dataframe tbody tr th:only-of-type {\n",
       "        vertical-align: middle;\n",
       "    }\n",
       "\n",
       "    .dataframe tbody tr th {\n",
       "        vertical-align: top;\n",
       "    }\n",
       "\n",
       "    .dataframe thead th {\n",
       "        text-align: right;\n",
       "    }\n",
       "</style>\n",
       "<table border=\"1\" class=\"dataframe\">\n",
       "  <thead>\n",
       "    <tr style=\"text-align: right;\">\n",
       "      <th></th>\n",
       "      <th>t_loss</th>\n",
       "      <th>t_supervised_loss</th>\n",
       "      <th>t_contrastive_loss</th>\n",
       "      <th>t_consistency_loss</th>\n",
       "      <th>t_miou</th>\n",
       "      <th>t_accuracy</th>\n",
       "      <th>t_dice</th>\n",
       "      <th>v_loss</th>\n",
       "      <th>v_supervised_loss</th>\n",
       "      <th>v_contrastive_loss</th>\n",
       "      <th>v_consistency_loss</th>\n",
       "      <th>v_miou</th>\n",
       "      <th>v_accuracy</th>\n",
       "      <th>v_dice</th>\n",
       "      <th>time</th>\n",
       "    </tr>\n",
       "  </thead>\n",
       "  <tbody>\n",
       "    <tr>\n",
       "      <th>0</th>\n",
       "      <td>1.0429</td>\n",
       "      <td>0.2794</td>\n",
       "      <td>7.6344</td>\n",
       "      <td>0</td>\n",
       "      <td>0.1175</td>\n",
       "      <td>0.5955</td>\n",
       "      <td>0.1645</td>\n",
       "      <td>0.1716</td>\n",
       "      <td>0.1716</td>\n",
       "      <td>0</td>\n",
       "      <td>0</td>\n",
       "      <td>0.3675</td>\n",
       "      <td>0.8024</td>\n",
       "      <td>0.4427</td>\n",
       "      <td>2024-05-23 16:32:22</td>\n",
       "    </tr>\n",
       "    <tr>\n",
       "      <th>1</th>\n",
       "      <td>0.8742</td>\n",
       "      <td>0.1354</td>\n",
       "      <td>7.3879</td>\n",
       "      <td>0</td>\n",
       "      <td>0.4192</td>\n",
       "      <td>0.8147</td>\n",
       "      <td>0.5148</td>\n",
       "      <td>0.1423</td>\n",
       "      <td>0.1423</td>\n",
       "      <td>0</td>\n",
       "      <td>0</td>\n",
       "      <td>0.4678</td>\n",
       "      <td>0.8472</td>\n",
       "      <td>0.5602</td>\n",
       "      <td>2024-05-23 16:34:27</td>\n",
       "    </tr>\n",
       "    <tr>\n",
       "      <th>2</th>\n",
       "      <td>0.8396</td>\n",
       "      <td>0.1025</td>\n",
       "      <td>7.3708</td>\n",
       "      <td>0</td>\n",
       "      <td>0.5165</td>\n",
       "      <td>0.8573</td>\n",
       "      <td>0.6202</td>\n",
       "      <td>0.1819</td>\n",
       "      <td>0.1819</td>\n",
       "      <td>0</td>\n",
       "      <td>0</td>\n",
       "      <td>0.5536</td>\n",
       "      <td>0.8748</td>\n",
       "      <td>0.6491</td>\n",
       "      <td>2024-05-23 16:36:36</td>\n",
       "    </tr>\n",
       "  </tbody>\n",
       "</table>\n",
       "</div>"
      ],
      "text/plain": [
       "   t_loss  t_supervised_loss  t_contrastive_loss  t_consistency_loss  t_miou  \\\n",
       "0  1.0429             0.2794              7.6344                   0  0.1175   \n",
       "1  0.8742             0.1354              7.3879                   0  0.4192   \n",
       "2  0.8396             0.1025              7.3708                   0  0.5165   \n",
       "\n",
       "   t_accuracy  t_dice  v_loss  v_supervised_loss  v_contrastive_loss  \\\n",
       "0      0.5955  0.1645  0.1716             0.1716                   0   \n",
       "1      0.8147  0.5148  0.1423             0.1423                   0   \n",
       "2      0.8573  0.6202  0.1819             0.1819                   0   \n",
       "\n",
       "   v_consistency_loss  v_miou  v_accuracy  v_dice                 time  \n",
       "0                   0  0.3675      0.8024  0.4427  2024-05-23 16:32:22  \n",
       "1                   0  0.4678      0.8472  0.5602  2024-05-23 16:34:27  \n",
       "2                   0  0.5536      0.8748  0.6491  2024-05-23 16:36:36  "
      ]
     },
     "execution_count": 1,
     "metadata": {},
     "output_type": "execute_result"
    }
   ],
   "source": [
    "import pandas as pd\n",
    "import matplotlib.pyplot as plt\n",
    "\n",
    "# 讀取 CSV 檔案\n",
    "csv_file_path = 'output/supervised pre training_loss-Resnet18_Image-224_patchSize-14_ContrastieWeights-0.1.csv'  # 請將此處替換為你的 CSV 檔案路徑\n",
    "df = pd.read_csv(csv_file_path)\n",
    "df.head()"
   ]
  },
  {
   "cell_type": "code",
   "execution_count": 2,
   "id": "631f1377",
   "metadata": {},
   "outputs": [
    {
     "data": {
      "text/plain": [
       "Index(['t_loss', 't_supervised_loss', 't_contrastive_loss',\n",
       "       't_consistency_loss', 't_miou', 't_accuracy', 't_dice', 'v_loss',\n",
       "       'v_supervised_loss', 'v_contrastive_loss', 'v_consistency_loss',\n",
       "       'v_miou', 'v_accuracy', 'v_dice', 'time'],\n",
       "      dtype='object')"
      ]
     },
     "execution_count": 2,
     "metadata": {},
     "output_type": "execute_result"
    }
   ],
   "source": [
    "df.columns"
   ]
  },
  {
   "cell_type": "code",
   "execution_count": 3,
   "id": "0e7d2ba3",
   "metadata": {},
   "outputs": [
    {
     "ename": "NameError",
     "evalue": "name 'plt' is not defined",
     "output_type": "error",
     "traceback": [
      "\u001b[0;31m---------------------------------------------------------------------------\u001b[0m",
      "\u001b[0;31mNameError\u001b[0m                                 Traceback (most recent call last)",
      "Cell \u001b[0;32mIn[3], line 1\u001b[0m\n\u001b[0;32m----> 1\u001b[0m \u001b[43mplt\u001b[49m\u001b[38;5;241m.\u001b[39mfigure(figsize\u001b[38;5;241m=\u001b[39m(\u001b[38;5;241m10\u001b[39m, \u001b[38;5;241m6\u001b[39m))\n\u001b[1;32m      2\u001b[0m plt\u001b[38;5;241m.\u001b[39mplot(df[\u001b[38;5;124m'\u001b[39m\u001b[38;5;124mt_supervised_loss\u001b[39m\u001b[38;5;124m'\u001b[39m], label\u001b[38;5;241m=\u001b[39m\u001b[38;5;124m'\u001b[39m\u001b[38;5;124mTraining Supervised Loss\u001b[39m\u001b[38;5;124m'\u001b[39m)\n\u001b[1;32m      3\u001b[0m plt\u001b[38;5;241m.\u001b[39mplot(df[\u001b[38;5;124m'\u001b[39m\u001b[38;5;124mv_supervised_loss\u001b[39m\u001b[38;5;124m'\u001b[39m], label\u001b[38;5;241m=\u001b[39m\u001b[38;5;124m'\u001b[39m\u001b[38;5;124mValidation Supervised Loss\u001b[39m\u001b[38;5;124m'\u001b[39m)\n",
      "\u001b[0;31mNameError\u001b[0m: name 'plt' is not defined"
     ]
    }
   ],
   "source": [
    "plt.figure(figsize=(10, 6))\n",
    "plt.plot(df['t_supervised_loss'], label='Training Supervised Loss')\n",
    "plt.plot(df['v_supervised_loss'], label='Validation Supervised Loss')\n",
    "plt.xlabel('Epoch')\n",
    "plt.ylabel('Supervised Loss')\n",
    "plt.title('Training and Validation Supervised Loss Curve')\n",
    "plt.legend()\n",
    "plt.grid(True)\n",
    "plt.show()"
   ]
  },
  {
   "cell_type": "code",
   "execution_count": null,
   "id": "5edf259a",
   "metadata": {},
   "outputs": [],
   "source": [
    "plt.figure(figsize=(10, 6))\n",
    "plt.plot(df['t_accuracy'], label='Training Supervised accuracy')\n",
    "plt.plot(df['v_accuracy'], label='Validation Supervised accuracy')\n",
    "plt.xlabel('Epoch')\n",
    "plt.ylabel('Supervised accuracy')\n",
    "plt.title('Training and Validation Supervised accuracy Curve')\n",
    "plt.legend()\n",
    "plt.grid(True)\n",
    "plt.show()"
   ]
  },
  {
   "cell_type": "code",
   "execution_count": null,
   "id": "68b4f968",
   "metadata": {},
   "outputs": [],
   "source": []
  }
 ],
 "metadata": {
  "kernelspec": {
   "display_name": "Python 3 (ipykernel)",
   "language": "python",
   "name": "python3"
  },
  "language_info": {
   "codemirror_mode": {
    "name": "ipython",
    "version": 3
   },
   "file_extension": ".py",
   "mimetype": "text/x-python",
   "name": "python",
   "nbconvert_exporter": "python",
   "pygments_lexer": "ipython3",
   "version": "3.8.10"
  }
 },
 "nbformat": 4,
 "nbformat_minor": 5
}
