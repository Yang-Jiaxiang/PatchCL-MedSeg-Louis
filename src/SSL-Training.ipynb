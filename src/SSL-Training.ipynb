{
 "cells": [
  {
   "cell_type": "code",
   "execution_count": null,
   "id": "f5417436",
   "metadata": {},
   "outputs": [],
   "source": [
    "contrastive_batch_size = 14\n",
    "embedding_size = 128\n",
    "img_size = 224\n",
    "batch_size = 8\n",
    "num_classes = 2\n",
    "\n",
    "base_path = '/home/u5169119/PatchCL-MedSeg-jiyu'\n",
    "dataset_path = '/home/u5169119/dataset/0_data_dataset_voc_950_kidney'\n",
    "output_dir = base_path + '/dataset/splits/kidney'\n",
    "ContrastieWeights = 0.1\n",
    "\n",
    "parameter = f'Resnet18_Image-{img_size}_patchSize-{contrastive_batch_size}_ContrastieWeights-{ContrastieWeights}'\n",
    "supervised_loss_path = f'{base_path}/output/supervised pre training_loss-{parameter}.csv'\n",
    "SSL_loss_path = f'{base_path}/output/SSL_loss-{parameter}.csv'\n",
    "save_model_path = f'{base_path}/output/best_contrast-{parameter}.pth'\n",
    "\n",
    "voc_mask_color_map = [\n",
    "    [0, 0, 0], #_background\n",
    "    [128, 0, 0] #kidney\n",
    "]"
   ]
  },
  {
   "cell_type": "code",
   "execution_count": null,
   "id": "c8afc993",
   "metadata": {},
   "outputs": [],
   "source": [
    "import os\n",
    "import sys\n",
    "import torch\n",
    "import torch.nn as nn\n",
    "import segmentation_models_pytorch as smp\n",
    "import math\n",
    "import time\n",
    "from torch.utils.data import DataLoader, random_split\n",
    "import numpy as np\n",
    "from PIL import Image\n",
    "import matplotlib.pyplot as plt\n",
    "from torchvision import transforms\n",
    "\n",
    "sys.path.append(base_path)\n",
    "\n",
    "from utils.transform import Transform\n",
    "from utils.stochastic_approx import StochasticApprox\n",
    "from utils.model import Network\n",
    "from utils.datasets_PASCAL_findContours import PascalVOCDataset\n",
    "# from utils.datasets_PASCAL import PascalVOCDataset\n",
    "from utils.queues import Embedding_Queues\n",
    "from utils.CELOSS import CE_loss\n",
    "# from utils.BCELoss import CustomCELoss\n",
    "from utils.patch_utils import _get_patches\n",
    "from utils.aug_utils import batch_augment\n",
    "from utils.get_embds import get_embeddings\n",
    "from utils.const_reg import consistency_cost\n",
    "from utils.plg_loss import PCGJCL\n",
    "from utils.torch_poly_lr_decay import PolynomialLRDecay\n",
    "from utils.loss_file import save_loss\n",
    "from utils.performance import calculate_metrics"
   ]
  },
  {
   "cell_type": "code",
   "execution_count": null,
   "id": "c99a6eb2",
   "metadata": {},
   "outputs": [],
   "source": [
    "cross_entropy_loss=CE_loss(num_classes, image_size=img_size)"
   ]
  },
  {
   "cell_type": "code",
   "execution_count": null,
   "id": "a4c4b767",
   "metadata": {},
   "outputs": [],
   "source": [
    "transform = Transform(img_size, num_classes)\n",
    "embd_queues = Embedding_Queues(num_classes)\n",
    "stochastic_approx = StochasticApprox(num_classes,0.5,0.8)\n",
    "dev = torch.device(\"cuda\" if torch.cuda.is_available() else \"cpu\")\n",
    "print(dev)"
   ]
  }
 ],
 "metadata": {
  "kernelspec": {
   "display_name": "Python 3 (ipykernel)",
   "language": "python",
   "name": "python3"
  },
  "language_info": {
   "codemirror_mode": {
    "name": "ipython",
    "version": 3
   },
   "file_extension": ".py",
   "mimetype": "text/x-python",
   "name": "python",
   "nbconvert_exporter": "python",
   "pygments_lexer": "ipython3",
   "version": "3.8.10"
  }
 },
 "nbformat": 4,
 "nbformat_minor": 5
}
