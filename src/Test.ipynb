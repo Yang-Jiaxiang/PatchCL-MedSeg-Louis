{
 "cells": [
  {
   "cell_type": "code",
   "execution_count": 1,
   "id": "dd9353f9",
   "metadata": {},
   "outputs": [],
   "source": [
    "base_path = '/tf/PatchCL-MedSeg-jiyu'\n",
    "dataset_path = '/tf/dataset/0_data_dataset_voc_950_kidney'\n",
    "output_dir = base_path + '/dataset/splits/kidney'\n",
    "\n",
    "supervised_loss_path = base_path + '/supervised pre training_loss.csv'\n",
    "SSL_loss_path = base_path + '/SSL_loss.csv'\n",
    "base_contrastive_model = base_path + \"/best_contrast_size128.pth\"\n",
    "voc_mask_color_map = [\n",
    "    [0, 0, 0], #_background\n",
    "    [128, 0, 0] #kidney\n",
    "]"
   ]
  },
  {
   "cell_type": "code",
   "execution_count": 2,
   "id": "7b14ae90",
   "metadata": {},
   "outputs": [],
   "source": [
    "import os\n",
    "import sys\n",
    "import torch\n",
    "import torch.nn as nn\n",
    "import segmentation_models_pytorch as smp\n",
    "import math\n",
    "import time\n",
    "from torch.utils.data import DataLoader\n",
    "import numpy as np\n",
    "from PIL import Image\n",
    "import matplotlib.pyplot as plt\n",
    "from torchvision import transforms\n",
    "\n",
    "sys.path.append(base_path)\n",
    "\n",
    "from utils.transform import Transform\n",
    "from utils.stochastic_approx import StochasticApprox\n",
    "from utils.model import Network\n",
    "from utils.datasets_PASCAL import PascalVOCDataset\n",
    "from utils.queues import Embedding_Queues\n",
    "from utils.CELOSS import CE_loss\n",
    "from utils.patch_utils import _get_patches\n",
    "from utils.aug_utils import batch_augment\n",
    "from utils.get_embds import get_embeddings\n",
    "from utils.const_reg import consistency_cost\n",
    "from utils.plg_loss import PCGJCL\n",
    "from utils.torch_poly_lr_decay import PolynomialLRDecay\n",
    "from utils.loss_file import save_loss"
   ]
  },
  {
   "cell_type": "code",
   "execution_count": 3,
   "id": "a5716e32",
   "metadata": {},
   "outputs": [],
   "source": [
    "contrastive_batch_size = 128\n",
    "img_size = 256\n",
    "batch_size = 8\n",
    "num_classes = 2\n",
    "transform = Transform(img_size, num_classes)\n",
    "embd_queues = Embedding_Queues(num_classes)\n",
    "stochastic_approx = StochasticApprox(num_classes,0.5,0.8)\n",
    "dev = torch.device(\"cuda:0\" if torch.cuda.is_available() else \"cpu\")"
   ]
  },
  {
   "cell_type": "code",
   "execution_count": 4,
   "id": "20b7bff3",
   "metadata": {},
   "outputs": [],
   "source": [
    "model = torch.load(base_contrastive_model)"
   ]
  },
  {
   "cell_type": "code",
   "execution_count": 11,
   "id": "08dd2d25",
   "metadata": {},
   "outputs": [
    {
     "name": "stdout",
     "output_type": "stream",
     "text": [
      "number of labeled_dataset:  285\n",
      "number of unlabeled_dataset:  570\n",
      "number of val_dataset:  95\n"
     ]
    }
   ],
   "source": [
    "labeled_dataset = PascalVOCDataset(txt_file=output_dir + \"/1-3/labeled.txt\", image_size=img_size, root_dir=dataset_path, labeled=True, colormap=voc_mask_color_map)\n",
    "unlabeled_dataset = PascalVOCDataset(txt_file=output_dir + \"/1-3/unlabeled.txt\", image_size=img_size, root_dir=dataset_path, labeled=False, colormap=voc_mask_color_map)\n",
    "val_dataset = PascalVOCDataset(txt_file=output_dir + \"/val.txt\", image_size=img_size, root_dir=dataset_path, labeled=True, colormap=voc_mask_color_map)\n",
    "\n",
    "labeled_loader = DataLoader(labeled_dataset, batch_size=batch_size)\n",
    "unlabeled_loader = DataLoader(unlabeled_dataset, batch_size=batch_size)\n",
    "val_loader = DataLoader(val_dataset, batch_size=batch_size)\n",
    "\n",
    "print('number of labeled_dataset: ', len(labeled_dataset))\n",
    "print('number of unlabeled_dataset: ', len(unlabeled_dataset))\n",
    "print('number of val_dataset: ', len(val_dataset))"
   ]
  },
  {
   "cell_type": "code",
   "execution_count": 16,
   "id": "5c3dba67",
   "metadata": {},
   "outputs": [
    {
     "name": "stdout",
     "output_type": "stream",
     "text": [
      "torch.Size([8, 3, 256, 256]) torch.Size([8, 256, 256])\n"
     ]
    }
   ],
   "source": [
    "# 測試數據加載器\n",
    "for images, masks in val_loader:\n",
    "    print(images.shape, masks.shape)\n",
    "    break"
   ]
  },
  {
   "cell_type": "code",
   "execution_count": 18,
   "id": "9b35a02b",
   "metadata": {},
   "outputs": [
    {
     "name": "stdout",
     "output_type": "stream",
     "text": [
      "multi_channel_masks shape:  torch.Size([8, 2, 256, 256])\n"
     ]
    }
   ],
   "source": [
    "multi_channel_masks = torch.zeros((masks.size(0), 2, masks.size(1), masks.size(2)), dtype=torch.float32)\n",
    "# 將單通道遮罩轉換為多通道遮罩\n",
    "multi_channel_masks[:, 0, :, :] = masks.float()  # 原始遮罩\n",
    "multi_channel_masks[:, 1, :, :] = 1 - masks.float()  # 反轉遮罩\n",
    "\n",
    "print('multi_channel_masks shape: ', multi_channel_masks.shape)"
   ]
  },
  {
   "cell_type": "code",
   "execution_count": 20,
   "id": "0bf384fb",
   "metadata": {},
   "outputs": [
    {
     "name": "stderr",
     "output_type": "stream",
     "text": [
      "/usr/local/lib/python3.8/dist-packages/torch/nn/modules/conv.py:456: UserWarning: Plan failed with a cudnnException: CUDNN_BACKEND_EXECUTION_PLAN_DESCRIPTOR: cudnnFinalize Descriptor Failed cudnn_status: CUDNN_STATUS_NOT_SUPPORTED (Triggered internally at ../aten/src/ATen/native/cudnn/Conv_v8.cpp:919.)\n",
      "  return F.conv2d(input, weight, bias, self.stride,\n"
     ]
    },
    {
     "name": "stdout",
     "output_type": "stream",
     "text": [
      "masks shape:  torch.Size([8, 2, 256, 256])\n",
      "output shape:  torch.Size([8, 4, 256, 256])\n"
     ]
    }
   ],
   "source": [
    "#calculate supervied loss\n",
    "images, multi_channel_masks = images.to(dev), multi_channel_masks.to(dev)\n",
    "out = model(images)\n",
    "print('masks shape: ', multi_channel_masks.shape)\n",
    "print('output shape: ', out.shape)"
   ]
  },
  {
   "cell_type": "code",
   "execution_count": null,
   "id": "a628c010",
   "metadata": {},
   "outputs": [],
   "source": []
  }
 ],
 "metadata": {
  "kernelspec": {
   "display_name": "Python 3 (ipykernel)",
   "language": "python",
   "name": "python3"
  },
  "language_info": {
   "codemirror_mode": {
    "name": "ipython",
    "version": 3
   },
   "file_extension": ".py",
   "mimetype": "text/x-python",
   "name": "python",
   "nbconvert_exporter": "python",
   "pygments_lexer": "ipython3",
   "version": "3.8.10"
  }
 },
 "nbformat": 4,
 "nbformat_minor": 5
}
